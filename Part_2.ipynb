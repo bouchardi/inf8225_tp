{
  "nbformat": 4,
  "nbformat_minor": 0,
  "metadata": {
    "colab": {
      "name": "Part_2.ipynb",
      "version": "0.3.2",
      "provenance": [],
      "collapsed_sections": [],
      "toc_visible": true,
      "include_colab_link": true
    },
    "kernelspec": {
      "name": "python3",
      "display_name": "Python 3"
    },
    "accelerator": "GPU"
  },
  "cells": [
    {
      "cell_type": "markdown",
      "metadata": {
        "id": "view-in-github",
        "colab_type": "text"
      },
      "source": [
        "<a href=\"https://colab.research.google.com/github/isabellebouchard/inf8225_tp/blob/master/Part_2.ipynb\" target=\"_parent\"><img src=\"https://colab.research.google.com/assets/colab-badge.svg\" alt=\"Open In Colab\"/></a>"
      ]
    },
    {
      "metadata": {
        "colab_type": "text",
        "id": "vOsrK0HhsHwK"
      },
      "cell_type": "markdown",
      "source": [
        "#TODO\n",
        "- fix data augmention class ImgAugTransform since its performing worse when applying data aug. \n",
        "\n",
        "\n",
        "\n"
      ]
    },
    {
      "metadata": {
        "colab_type": "text",
        "id": "VH4lIYcO1K6Q"
      },
      "cell_type": "markdown",
      "source": [
        "# Part II (20 points)\n",
        "\n",
        "For this part, you may work in groups of 2. Each person submits their own report, but for this part the reports\n",
        "have to be identical if you work in a group.\n",
        "\n",
        "The objective of Part II is to familiarize yourself with the Pytorch library (or Tensorflow + Keras, or your choice\n",
        "of other software). You will experiment with Fashion MNIST. This is a dataset of images similar to MNIST, but\n",
        "consisting of 10 different categories of clothing.\n",
        "\n",
        "- Perform experiments with different architectures; e.g. use different types and numbers of layers. - DONE\n",
        "- Use at least one convolutional network and one fully connected network.  - DONE\n",
        "- Use a validation set to select the best architecture, and use the test set only at the end.  - DONE\n",
        "- Compare your results based on learning curves and log-probability.  - DONE\n",
        "- You can refer to code available here: https://github.com/AlexPiche/INF8225/tree/master/tp2, and also to pytorch\n",
        "tutorials here: https://github.com/MaximumEntropy/pytorch_notebooks\n",
        "\n",
        "Submit a report including the learning curves and code of your models.\n",
        "\n",
        "\n",
        "\n",
        "\n"
      ]
    },
    {
      "metadata": {
        "colab_type": "text",
        "id": "684DW9LYqBOQ"
      },
      "cell_type": "markdown",
      "source": [
        "# Installation Requirements"
      ]
    },
    {
      "metadata": {
        "colab_type": "code",
        "id": "bpLwFCA2qZ3Z",
        "outputId": "10c297e8-0f04-4127-e6e6-c862faf6e13d",
        "colab": {
          "base_uri": "https://localhost:8080/",
          "height": 388
        }
      },
      "cell_type": "code",
      "source": [
        "# imgaug requirements\n",
        "!pip3 install six numpy scipy Pillow scikit-image opencv-python imageio Shapely\n",
        "!pip3 install torch torchvision matplotlib imgaug>=0.2.7,<0.2.8\n",
        "\n",
        "\n"
      ],
      "execution_count": 1,
      "outputs": [
        {
          "output_type": "stream",
          "text": [
            "Requirement already satisfied: six in /usr/local/lib/python3.6/dist-packages (1.11.0)\n",
            "Requirement already satisfied: numpy in /usr/local/lib/python3.6/dist-packages (1.14.6)\n",
            "Requirement already satisfied: scipy in /usr/local/lib/python3.6/dist-packages (1.1.0)\n",
            "Requirement already satisfied: Pillow in /usr/local/lib/python3.6/dist-packages (4.0.0)\n",
            "Requirement already satisfied: scikit-image in /usr/local/lib/python3.6/dist-packages (0.13.1)\n",
            "Requirement already satisfied: opencv-python in /usr/local/lib/python3.6/dist-packages (3.4.5.20)\n",
            "Requirement already satisfied: imageio in /usr/local/lib/python3.6/dist-packages (2.4.1)\n",
            "Requirement already satisfied: Shapely in /usr/local/lib/python3.6/dist-packages (1.6.4.post2)\n",
            "Requirement already satisfied: olefile in /usr/local/lib/python3.6/dist-packages (from Pillow) (0.46)\n",
            "Requirement already satisfied: networkx>=1.8 in /usr/local/lib/python3.6/dist-packages (from scikit-image) (2.2)\n",
            "Requirement already satisfied: PyWavelets>=0.4.0 in /usr/local/lib/python3.6/dist-packages (from scikit-image) (1.0.1)\n",
            "Requirement already satisfied: matplotlib>=1.3.1 in /usr/local/lib/python3.6/dist-packages (from scikit-image) (3.0.2)\n",
            "Requirement already satisfied: decorator>=4.3.0 in /usr/local/lib/python3.6/dist-packages (from networkx>=1.8->scikit-image) (4.3.2)\n",
            "Requirement already satisfied: pyparsing!=2.0.4,!=2.1.2,!=2.1.6,>=2.0.1 in /usr/local/lib/python3.6/dist-packages (from matplotlib>=1.3.1->scikit-image) (2.3.1)\n",
            "Requirement already satisfied: kiwisolver>=1.0.1 in /usr/local/lib/python3.6/dist-packages (from matplotlib>=1.3.1->scikit-image) (1.0.1)\n",
            "Requirement already satisfied: cycler>=0.10 in /usr/local/lib/python3.6/dist-packages (from matplotlib>=1.3.1->scikit-image) (0.10.0)\n",
            "Requirement already satisfied: python-dateutil>=2.1 in /usr/local/lib/python3.6/dist-packages (from matplotlib>=1.3.1->scikit-image) (2.5.3)\n",
            "Requirement already satisfied: setuptools in /usr/local/lib/python3.6/dist-packages (from kiwisolver>=1.0.1->matplotlib>=1.3.1->scikit-image) (40.8.0)\n",
            "/bin/bash: 0.2.8: No such file or directory\n"
          ],
          "name": "stdout"
        }
      ]
    },
    {
      "metadata": {
        "colab_type": "text",
        "id": "6XE-zREuubCO"
      },
      "cell_type": "markdown",
      "source": [
        "#Use GPU \n",
        "\n",
        "First, select \"GPU\" in the Edit Menu -> Notebook Settings -> Hardware Accelerator -> GPU\n",
        "\n",
        "**torch.cuda**: *This package adds support for CUDA tensor types, that implement the same function as CPU tensors, but they utilize GPUs for computation.*\n",
        "\n",
        "**torch.cuda.is_available()**: *Returns a bool indicating if CUDA is currently available.*\n",
        "\n",
        "To go from a tensor type CPU to GPU, add .to(\"cuda:0\")"
      ]
    },
    {
      "metadata": {
        "colab_type": "code",
        "id": "CazsaWTvwY4a",
        "outputId": "f03c0ffd-488c-48ac-ba3e-e632344fd3f6",
        "colab": {
          "base_uri": "https://localhost:8080/",
          "height": 54
        }
      },
      "cell_type": "code",
      "source": [
        "import torch\n",
        "\n",
        "use_gpu = torch.cuda.is_available()\n",
        "print(\"GPU Available: {}\".format(use_gpu))\n",
        "device = torch.device(\"cuda:0\" if use_gpu else \"cpu\")\n",
        "device"
      ],
      "execution_count": 2,
      "outputs": [
        {
          "output_type": "stream",
          "text": [
            "GPU Available: True\n"
          ],
          "name": "stdout"
        },
        {
          "output_type": "execute_result",
          "data": {
            "text/plain": [
              "device(type='cuda', index=0)"
            ]
          },
          "metadata": {
            "tags": []
          },
          "execution_count": 2
        }
      ]
    },
    {
      "metadata": {
        "id": "Zg7I4ATa0Rqq",
        "colab_type": "text"
      },
      "cell_type": "markdown",
      "source": [
        "# Hyperparameters\n",
        "\n"
      ]
    },
    {
      "metadata": {
        "id": "7hcJxbf50aFw",
        "colab_type": "code",
        "colab": {}
      },
      "cell_type": "code",
      "source": [
        "learning_rate = 1e-2\n",
        "batch_size = 16"
      ],
      "execution_count": 0,
      "outputs": []
    },
    {
      "metadata": {
        "colab_type": "text",
        "id": "d-ds7UbtqNVJ"
      },
      "cell_type": "markdown",
      "source": [
        "# Fashion-MNIST Dataset\n",
        "\n",
        "**Fashion-MNIST** is a dataset of Zalando's article images—consisting of a training set of 60,000 examples and a test set of 10,000 examples. Each example is a 28x28 grayscale image, associated with a label from 10 classes.\n",
        "\n",
        "### Dataset Split\n",
        "**train_set**: 0.80*(60,000) = 48,000\n",
        "\n",
        "**valid_set**: 60,000 - 48,000 = 12,000\n",
        "\n",
        "**test_set**: 10,000\n",
        "\n"
      ]
    },
    {
      "metadata": {
        "id": "AkSc2RnyMKDj",
        "colab_type": "code",
        "colab": {}
      },
      "cell_type": "code",
      "source": [
        "from torchvision.datasets.mnist import MNIST\n",
        "\n",
        "#FashionMNIST class is from: https://github.com/AlexPiche/INF8225/blob/master/tp2/fashion.py\n",
        "class FashionMNIST(MNIST):\n",
        "    \"\"\"`Fashion-MNIST <https://github.com/zalandoresearch/fashion-mnist>`_ Dataset.\n",
        "    Args:\n",
        "        root (string): Root directory of dataset where ``processed/training.pt``\n",
        "            and  ``processed/test.pt`` exist.\n",
        "        train (bool, optional): If True, creates dataset from ``training.pt``,\n",
        "            otherwise from ``test.pt``.\n",
        "        download (bool, optional): If true, downloads the dataset from the internet and\n",
        "            puts it in root directory. If dataset is already downloaded, it is not\n",
        "            downloaded again.\n",
        "        transform (callable, optional): A function/transform that  takes in an PIL image\n",
        "            and returns a transformed version. E.g, ``transforms.RandomCrop``\n",
        "        target_transform (callable, optional): A function/transform that takes in the\n",
        "            target and transforms it.\n",
        "    \"\"\"\n",
        "    urls = [\n",
        "            'http://fashion-mnist.s3-website.eu-central-1.amazonaws.com/train-images-idx3-ubyte.gz',\n",
        "            'http://fashion-mnist.s3-website.eu-central-1.amazonaws.com/train-labels-idx1-ubyte.gz',\n",
        "            'http://fashion-mnist.s3-website.eu-central-1.amazonaws.com/t10k-images-idx3-ubyte.gz',\n",
        "            'http://fashion-mnist.s3-website.eu-central-1.amazonaws.com/t10k-labels-idx1-ubyte.gz',\n",
        "            ]\n"
      ],
      "execution_count": 0,
      "outputs": []
    },
    {
      "metadata": {
        "id": "BuZy_ihNFluL",
        "colab_type": "text"
      },
      "cell_type": "markdown",
      "source": [
        "# Data Augmentation\n",
        "To prevent overfitting, we augmented our data in the training set by doing rotations, horizontal flips, resize crops, etc.. We also normalized the data in training, validation, and test sets. "
      ]
    },
    {
      "metadata": {
        "id": "CysdvFaeFhM_",
        "colab_type": "code",
        "colab": {}
      },
      "cell_type": "code",
      "source": [
        "class ImgAugTransform:\n",
        "  def __init__(self):\n",
        "    self.aug = iaa.Sequential([\n",
        "        iaa.Scale((98, 98)),\n",
        "        iaa.Sometimes(0.25, iaa.GaussianBlur(sigma=(0, 3.0))),\n",
        "        iaa.Fliplr(0.5),\n",
        "        iaa.Affine(rotate=(-20, 20), mode='symmetric'),\n",
        "        iaa.Sometimes(0.25,\n",
        "                      iaa.OneOf([iaa.Dropout(p=(0, 0.1)),\n",
        "                                 iaa.CoarseDropout(0.1, size_percent=0.5)]))\n",
        "        #iaa.AddToHueAndSaturation(value=(-10, 10), per_channel=True)\n",
        "    ])\n",
        "      \n",
        "  def __call__(self, img):\n",
        "    img = np.array(img)\n",
        "    return Image.fromarray(self.aug.augment_image(img))"
      ],
      "execution_count": 0,
      "outputs": []
    },
    {
      "metadata": {
        "colab_type": "code",
        "id": "CRsuMTDdEhJN",
        "outputId": "7bac6764-4db5-4064-c79b-2545ba1a9ad4",
        "colab": {
          "base_uri": "https://localhost:8080/",
          "height": 201
        }
      },
      "cell_type": "code",
      "source": [
        "import torch\n",
        "import torchvision\n",
        "from torch.utils.data import sampler, DataLoader\n",
        "from torchvision.datasets import ImageFolder\n",
        "from torchvision import datasets, models, transforms\n",
        "import os\n",
        "import numpy as np\n",
        "import matplotlib.pyplot as plt\n",
        "from imgaug import augmenters as iaa\n",
        "import imgaug as ia\n",
        "from PIL import Image\n",
        "from torch.autograd import Variable\n",
        "import torch.nn.functional as F\n",
        "\n",
        "def load_dataset(batch_size, data_transforms, data_path='../data'):\n",
        "  # ChunkSampler class is from https://github.com/pytorch/vision/issues/168\n",
        "  class ChunkSampler(sampler.Sampler):\n",
        "      \"\"\"Samples elements sequentially from some offset.\n",
        "      Arguments:\n",
        "          num_samples: # of desired datapoints\n",
        "          start: offset where we should start selecting from\n",
        "      \"\"\"\n",
        "\n",
        "      def __init__(self, num_samples, start=0):\n",
        "          self.num_samples = num_samples\n",
        "          self.start = start\n",
        "\n",
        "      def __iter__(self):\n",
        "          return iter(range(self.start, self.start + self.num_samples))\n",
        "\n",
        "      def __len__(self):\n",
        "          return self.num_samples\n",
        "\n",
        "  train_set = FashionMNIST(root=data_path, train=True, transform=data_transforms['aug_false'], download=True)\n",
        "  aug_train_set = FashionMNIST(root=data_path, train=True, transform=data_transforms['aug_true'], download=True)\n",
        "  test_set = FashionMNIST(root=data_path, train=False, transform=data_transforms['test'], download=True)\n",
        "    \n",
        "  train_set_size = len(train_set)\n",
        "  NUM_TRAIN = int(0.8 * train_set_size)  # cast to int to avoid TypeError\n",
        "  NUM_VAL = train_set_size - NUM_TRAIN\n",
        "  NUM_TEST = len(test_set)\n",
        "\n",
        "  trainset = DataLoader(aug_train_set, batch_size=batch_size, sampler=ChunkSampler(NUM_TRAIN, 0), shuffle=False, num_workers=8)\n",
        "  validset = DataLoader(train_set, batch_size=batch_size, sampler=ChunkSampler(NUM_VAL, NUM_TRAIN), shuffle=False, num_workers=8)\n",
        "  testset = DataLoader(test_set, batch_size=batch_size, shuffle=False, num_workers=8)\n",
        "\n",
        "  print(\"Data Loading Complete!\")\n",
        "\n",
        "  return trainset, validset, testset\n",
        "\n",
        "# Data augmentation and normalization for training\n",
        "# Just normalization for validation and test\n",
        "data_transforms = {\n",
        "    'aug_true': transforms.Compose([\n",
        "        ImgAugTransform(),\n",
        "        transforms.Resize([28,28]),\n",
        "        transforms.ToTensor(),\n",
        "        transforms.Normalize((0.1307,), (0.3081,))\n",
        "    ]),\n",
        "    'aug_false': transforms.Compose([\n",
        "        transforms.Resize([28,28]),\n",
        "        transforms.ToTensor(),\n",
        "        transforms.Normalize((0.1307,), (0.3081,))\n",
        "    ]),\n",
        "    'test': transforms.Compose([\n",
        "        transforms.Resize([28,28]),\n",
        "        transforms.ToTensor(),\n",
        "        transforms.Normalize((0.1307,), (0.3081,))\n",
        "    ]),\n",
        "}\n",
        "\n",
        "train_set, valid_set, test_set = load_dataset(batch_size, data_transforms)\n",
        "\n",
        "print('Train_size',len(train_set) * batch_size)\n",
        "print('Val_size',len(valid_set) * batch_size)\n",
        "print('Test_size',len(test_set) * batch_size)"
      ],
      "execution_count": 6,
      "outputs": [
        {
          "output_type": "stream",
          "text": [
            "Downloading http://fashion-mnist.s3-website.eu-central-1.amazonaws.com/train-images-idx3-ubyte.gz\n",
            "Downloading http://fashion-mnist.s3-website.eu-central-1.amazonaws.com/train-labels-idx1-ubyte.gz\n",
            "Downloading http://fashion-mnist.s3-website.eu-central-1.amazonaws.com/t10k-images-idx3-ubyte.gz\n",
            "Downloading http://fashion-mnist.s3-website.eu-central-1.amazonaws.com/t10k-labels-idx1-ubyte.gz\n",
            "Processing...\n",
            "Done!\n",
            "Data Loading Complete!\n",
            "Train_size 48000\n",
            "Val_size 12000\n",
            "Test_size 10000\n"
          ],
          "name": "stdout"
        }
      ]
    },
    {
      "metadata": {
        "colab_type": "code",
        "id": "UebsKtffYrr_",
        "outputId": "4f2db157-e31b-4017-b653-3dcb6723bd5a",
        "colab": {
          "base_uri": "https://localhost:8080/",
          "height": 177
        }
      },
      "cell_type": "code",
      "source": [
        "def imshow(inp, title=None):\n",
        "    \"\"\"Imshow for Tensor.\"\"\"\n",
        "    inp = inp.numpy().transpose((1, 2, 0))\n",
        "    mean = np.array([0.1307])\n",
        "    std = np.array([0.3081])\n",
        "    inp = std * inp + mean\n",
        "    inp = np.clip(inp, 0, 1)\n",
        "    plt.imshow(inp)\n",
        "    if title is not None:\n",
        "        plt.title(title)\n",
        "    plt.pause(0.001)  # pause a bit so that plots are updated\n",
        "\n",
        "\n",
        "# Get a batch of training data\n",
        "inputs, classes = next(iter(train_set))\n",
        "\n",
        "# Make a grid from batch\n",
        "out = torchvision.utils.make_grid(inputs)\n",
        "\n",
        "imshow(out, title=\"Augmented Training Data\")"
      ],
      "execution_count": 7,
      "outputs": [
        {
          "output_type": "display_data",
          "data": {
            "image/png": "[encoded data removed]",
            "text/plain": [
              "<Figure size 576x396 with 1 Axes>"
            ]
          },
          "metadata": {
            "tags": []
          }
        }
      ]
    },
    {
      "metadata": {
        "id": "0t_MCEhSRfeT",
        "colab_type": "code",
        "outputId": "4aa942fc-c91a-4811-92d7-d54a7dee45b0",
        "colab": {
          "base_uri": "https://localhost:8080/",
          "height": 177
        }
      },
      "cell_type": "code",
      "source": [
        "# Get a batch of training data\n",
        "inputs, classes = next(iter(valid_set))\n",
        "\n",
        "# Make a grid from batch\n",
        "out = torchvision.utils.make_grid(inputs)\n",
        "\n",
        "imshow(out, title=\"Validation Data\")"
      ],
      "execution_count": 8,
      "outputs": [
        {
          "output_type": "display_data",
          "data": {
            "image/png": "[encoded data removed]",
            "text/plain": [
              "<Figure size 576x396 with 1 Axes>"
            ]
          },
          "metadata": {
            "tags": []
          }
        }
      ]
    },
    {
      "metadata": {
        "colab_type": "text",
        "id": "19H5ZWImwdHt"
      },
      "cell_type": "markdown",
      "source": [
        "# Create Models\n",
        "\n",
        "[torch.nn.Module](https://pytorch.org/docs/master/nn.html#torch.nn.Module): Base class for all NN modules. \n",
        "Must implement __init__ (defines the layers) and **forward** (returns the output)\n",
        "\n",
        "[torch.nn.Sequential(*args)](https://pytorch.org/docs/master/nn.html#torch.nn.Sequential): Modules will be added to it in the order they are passed in the constructor\n",
        "\n",
        " [torch.nn.Conv2d](https://pytorch.org/docs/master/nn.html#torch.nn.Conv2d)(in_channels, out_channels, kernel_size, stride=1, padding=0, dilation=1, groups=1, bias=True)\n",
        " \n",
        "[torch.nn.MaxPool2d](https://pytorch.org/docs/master/nn.html#torch.nn.MaxPool2d)(kernel_size, stride=None, padding=0, dilation=1, return_indices=False, ceil_mode=False): Applies a 2D max pooling over an input signal composed of several input planes.\n",
        "\n",
        " [torch.nn.Linear](https://pytorch.org/docs/master/nn.html#torch.nn.Linear)(in_features, out_features, bias=True)\n"
      ]
    },
    {
      "metadata": {
        "colab_type": "code",
        "id": "BsuLybW3wyq2",
        "colab": {}
      },
      "cell_type": "code",
      "source": [
        "import torch.nn as nn\n",
        "import copy\n",
        "import torch\n",
        "\n",
        "class shallow_CNN(nn.Module):\n",
        "  def __init__(self):\n",
        "    super(shallow_CNN, self).__init__()\n",
        "    \n",
        "    self.conv1 = nn.Sequential(\n",
        "        nn.Conv2d(1,32,kernel_size=5,padding=2),\n",
        "        nn.ReLU(),\n",
        "        nn.MaxPool2d(2),\n",
        "        nn.Dropout2d())\n",
        "    \n",
        "    self.conv2 = nn.Sequential(\n",
        "        nn.Conv2d(32,64,kernel_size=5,padding=2),\n",
        "        nn.ReLU(),\n",
        "        nn.MaxPool2d(2),\n",
        "        nn.Dropout2d())\n",
        "\n",
        "    self.conv3 = nn.Sequential(\n",
        "        nn.Conv2d(64,128,kernel_size=5,padding=2),\n",
        "        nn.ReLU(),\n",
        "        nn.MaxPool2d(2),\n",
        "        nn.Dropout2d())\n",
        "    \n",
        "    self.conv4 = nn.Sequential(\n",
        "        nn.Conv2d(128,256,kernel_size=3,padding=2),\n",
        "        nn.ReLU(),\n",
        "        nn.MaxPool2d(2),\n",
        "        nn.Dropout2d())\n",
        "    \n",
        "    self.fc = nn.Linear(2*2*256,10)\n",
        "    \n",
        "  def forward(self,x):\n",
        "    out = self.conv1(x)\n",
        "    out = self.conv2(out)\n",
        "    out = self.conv3(out)\n",
        "    out = self.conv4(out)\n",
        "    flatten = out.view(out.size(0),-1)\n",
        "    fc = self.fc(flatten)\n",
        "    return fc\n",
        "\n",
        "\n",
        "class deep_CNN(nn.Module):\n",
        "  def __init__(self):\n",
        "    super(deep_CNN, self).__init__()\n",
        "    \n",
        "    self.conv1 = nn.Sequential(\n",
        "        nn.Conv2d(1,32,kernel_size=5,padding=2),\n",
        "        nn.Conv2d(32,32,kernel_size=3,padding=1),\n",
        "        nn.ReLU(),\n",
        "        nn.MaxPool2d(2),\n",
        "        nn.Dropout2d())\n",
        "    \n",
        "    self.conv2 = nn.Sequential(\n",
        "        nn.Conv2d(32,64,kernel_size=5,padding=2),\n",
        "        nn.Conv2d(64,64,kernel_size=3,padding=1),\n",
        "        nn.ReLU(),\n",
        "        nn.MaxPool2d(2),\n",
        "        nn.Dropout2d())\n",
        "\n",
        "    self.conv3 = nn.Sequential(\n",
        "        nn.Conv2d(64,128,kernel_size=5,padding=2),\n",
        "        nn.Conv2d(128,128,kernel_size=3,padding=1),\n",
        "        nn.ReLU(),\n",
        "        nn.MaxPool2d(2),\n",
        "        nn.Dropout2d())\n",
        "    \n",
        "    self.conv4 = nn.Sequential(\n",
        "        nn.Conv2d(128,256,kernel_size=3,padding=2),\n",
        "        nn.Conv2d(256,256,kernel_size=3,padding=1),\n",
        "        nn.ReLU(),\n",
        "        nn.MaxPool2d(2),\n",
        "        nn.Dropout2d())\n",
        "    \n",
        "    self.fc = nn.Linear(2*2*256,10)\n",
        "    \n",
        "  def forward(self,x):\n",
        "    out = self.conv1(x)\n",
        "    out = self.conv2(out)\n",
        "    out = self.conv3(out)\n",
        "    out = self.conv4(out)\n",
        "    flatten = out.view(out.size(0),-1)\n",
        "    fc = self.fc(flatten)\n",
        "    return fc\n",
        "\n",
        "\n",
        "class shallow_FcNetwork(nn.Module):\n",
        "    def __init__(self):\n",
        "        super().__init__()\n",
        "        self.fc1 = nn.Linear(28*28, 512)\n",
        "        self.fc2 = nn.Linear(512, 10)\n",
        "    \n",
        "    def forward(self, image):\n",
        "        batch_size = image.size()[0]\n",
        "        x = image.view(batch_size, -1)\n",
        "        x = torch.sigmoid(self.fc1(x))\n",
        "        x = F.log_softmax(self.fc2(x), dim=1)\n",
        "        return x\n",
        "    \n",
        "\n",
        "class deep_FcNetwork(nn.Module):\n",
        "    def __init__(self):\n",
        "        super().__init__()\n",
        "        self.fc1 = nn.Linear(28*28, 512)\n",
        "        self.fc2 = nn.Linear(512, 1024)\n",
        "        self.fc3 = nn.Linear(1024, 10)\n",
        "    \n",
        "    def forward(self, image):\n",
        "        batch_size = image.size()[0]\n",
        "        x = image.view(batch_size, -1)\n",
        "        x = torch.sigmoid(self.fc1(x))\n",
        "        x = torch.sigmoid(self.fc2(x))\n",
        "        x = F.log_softmax(self.fc3(x), dim=1)\n",
        "        return x\n",
        "    "
      ],
      "execution_count": 0,
      "outputs": []
    },
    {
      "metadata": {
        "id": "52lr1yNSeG7e",
        "colab_type": "text"
      },
      "cell_type": "markdown",
      "source": [
        "#Train and Validate Model\n",
        "\n",
        "#### Loss function\n",
        "\n",
        "criterion = [torch.nn.CrossEntropyLoss](https://pytorch.org/docs/master/nn.html#torch.nn.CrossEntropyLoss)(weight=None, size_average=None, ignore_index=-100, reduce=None, reduction='mean')\n",
        "\n",
        "This criterion combines nn.LogSoftmax() and nn.NLLLoss() in one single class.\n",
        "\n",
        "#### Minimize loss function using stochastic gradient descent\n",
        "optimizer = [torch.optim.SGD](https://pytorch.org/docs/master/optim.html#torch.optim.SGD)(params, lr=<required parameter>, momentum=0, dampening=0, weight_decay=0, nesterov=False)"
      ]
    },
    {
      "metadata": {
        "id": "hhuNd7ELAaUl",
        "colab_type": "code",
        "colab": {}
      },
      "cell_type": "code",
      "source": [
        "def experiment(model,init_model_wts, loader_train, loader_val,num_epochs=10, lr=1e-2):  \n",
        "  import time\n",
        "\n",
        "  patience = 0\n",
        "\n",
        "  #loss function\n",
        "  criterion = nn.CrossEntropyLoss()  \n",
        "\n",
        "  #optimizer\n",
        "  optimizer = torch.optim.SGD(model.parameters(), lr=lr)\n",
        "\n",
        "  model.load_state_dict(init_model_wts)\n",
        "  best_model_wts = copy.deepcopy(model.state_dict())\n",
        "  best_acc = 0.0\n",
        "\n",
        "  train_errors = []\n",
        "  eval_errors = []\n",
        "  acc = []\n",
        "\n",
        "  print(\"Training begins...\")\n",
        "  since = time.time()\n",
        "\n",
        "  for epoch in range(num_epochs):\n",
        "\n",
        "    train_error = 0\n",
        "    train_num = 0\n",
        "\n",
        "    # model in train mode\n",
        "    model.train()\n",
        "\n",
        "    for digits, labels in loader_train:\n",
        "\n",
        "      # digits and labels on GPU\n",
        "      digits = digits.to(device)\n",
        "      labels = labels.to(device)\n",
        "\n",
        "      # zero gradient buffer\n",
        "      optimizer.zero_grad()\n",
        "\n",
        "      # forward pass\n",
        "      outputs = model(digits)\n",
        "\n",
        "      # loss function\n",
        "      loss = criterion(outputs,labels)\n",
        "\n",
        "      # backward pass\n",
        "      loss.backward()\n",
        "\n",
        "      # gradient descent step\n",
        "      optimizer.step()\n",
        "\n",
        "      # add the loss\n",
        "      train_error += loss.item()\n",
        "      train_num += 1\n",
        "\n",
        "    eval_error = 0\n",
        "    eval_num = 0\n",
        "    correct = 0\n",
        "    total = 0\n",
        "\n",
        "    # model in eval mode\n",
        "    model.eval()\n",
        "\n",
        "    for digits, labels in loader_val:\n",
        "\n",
        "      # digits and labels on GPU\n",
        "      digits = digits.to(device)\n",
        "      labels = labels.to(device)\n",
        "\n",
        "      # forward pass\n",
        "      outputs = model(digits)\n",
        "      _, predicted = torch.max(outputs.data, 1)\n",
        "\n",
        "      # loss function\n",
        "      loss = criterion(outputs,labels)\n",
        "\n",
        "      # add the loss\n",
        "      eval_error += loss.item()\n",
        "      eval_num += 1\n",
        "\n",
        "      # save the accuary\n",
        "      total += labels.size(0)\n",
        "      correct += torch.sum(predicted == labels.data)\n",
        "\n",
        "    #calculate epoch accuracy\n",
        "    accuracy = (100 * correct)/total\n",
        "\n",
        "    # deep copy the model of best epoch accuracy\n",
        "    if accuracy > best_acc:\n",
        "      best_acc = accuracy\n",
        "      best_model_wts = copy.deepcopy(model.state_dict())\n",
        "      patience = 0\n",
        "    else:\n",
        "      patience += 1\n",
        "    if patience == 3:\n",
        "      learning_rate /= 2\n",
        "    if patience > 4:\n",
        "      print('early stopping')\n",
        "      break\n",
        "\n",
        "    # save the loss\n",
        "    train_errors.append(train_error / train_num)\n",
        "    eval_errors.append(eval_error / eval_num)\n",
        "\n",
        "    acc.append(accuracy)\n",
        "\n",
        "    #print stats after each epoch\n",
        "    print('\\nEpoch {}'.format(epoch + 1))\n",
        "    print('\\nPatience {}'.format(patience))\n",
        "    print('\\tTrain error: {:.4f}'.format(train_error/train_num))  \n",
        "    print('\\tEval error: {:.4f}'.format(eval_error/eval_num))\n",
        "    print('\\tAccuracy on Eval set: {:.2f}%'.format(accuracy))\n",
        "\n",
        "  time_elapsed = time.time() - since\n",
        "  print('\\nTraining complete in {:.0f}m {:.0f}s'.format(time_elapsed // 60, time_elapsed % 60))\n",
        "\n",
        "  # load best model weights\n",
        "  model.load_state_dict(best_model_wts)\n",
        "  return model, accuracy, train_errors, eval_errors\n"
      ],
      "execution_count": 0,
      "outputs": []
    },
    {
      "metadata": {
        "colab_type": "text",
        "id": "Jsv2qq5dxdXK"
      },
      "cell_type": "markdown",
      "source": [
        "# Plot Train and Valid Errors"
      ]
    },
    {
      "metadata": {
        "colab_type": "code",
        "id": "ppiHJuZTxl89",
        "colab": {}
      },
      "cell_type": "code",
      "source": [
        "def plot_learning_curves(train_errors,eval_errors):  \n",
        "  import matplotlib.pyplot as plt\n",
        "  %matplotlib inline\n",
        "\n",
        "  # Plot training and validation curve\n",
        "  x = list(range(len(train_errors))) \n",
        "  plt.plot(x, train_errors,'m',label='Train')\n",
        "  plt.plot(x, eval_errors,'g', label='Validation')\n",
        "\n",
        "  plt.xlabel('Number Epochs')\n",
        "  plt.ylabel('Loss')\n",
        "  plt.legend(loc='best',shadow=True, fancybox=True)\n",
        "  plt.title(\"Loss\")\n",
        "\n",
        "  plt.show()"
      ],
      "execution_count": 0,
      "outputs": []
    },
    {
      "metadata": {
        "id": "20iwVyynyVgH",
        "colab_type": "text"
      },
      "cell_type": "markdown",
      "source": [
        "# Test Model"
      ]
    },
    {
      "metadata": {
        "id": "NMzvWhFxyXhl",
        "colab_type": "code",
        "colab": {}
      },
      "cell_type": "code",
      "source": [
        "def test(model,test_set):\n",
        "  # model in eval mode\n",
        "  model.eval()\n",
        "\n",
        "  correct = 0\n",
        "  total = 0\n",
        "\n",
        "  for digits, labels in test_set:\n",
        "\n",
        "    # digits and labels on GPU\n",
        "    digits = digits.to(device)\n",
        "    labels = labels.to(device)\n",
        "\n",
        "    # forward pass\n",
        "    outputs = model(digits)\n",
        "    _, predicted = torch.max(outputs.data, 1)\n",
        "\n",
        "    # save the accuary\n",
        "\n",
        "    total += labels.size(0)\n",
        "    correct += torch.sum(predicted == labels.data)\n",
        "  print(\"\\nBest Model is: \")\n",
        "  print(model)\n",
        "  print('\\n\\nAccuracy on the test set of Best Model: {:.2f}%'.format(100 * correct / total))\n",
        "  "
      ],
      "execution_count": 0,
      "outputs": []
    },
    {
      "metadata": {
        "id": "5GBi1NHdKtBb",
        "colab_type": "text"
      },
      "cell_type": "markdown",
      "source": [
        "# Run Experiment to Find and Test Best Model"
      ]
    },
    {
      "metadata": {
        "id": "YoyaUqR7c9V1",
        "colab_type": "code",
        "outputId": "cd2f6478-88fe-4b92-a107-1c23e0e30db7",
        "colab": {
          "base_uri": "https://localhost:8080/",
          "height": 4374
        }
      },
      "cell_type": "code",
      "source": [
        "best_precision = 0\n",
        "for model in [shallow_FcNetwork(),deep_FcNetwork(),shallow_CNN(),deep_CNN()]:  # add your models in the list\n",
        "    # put model on GPU\n",
        "    model = model.to(device)\n",
        "    print(model)\n",
        "    print(\"\\n\\n# Parameters: \", sum([param.nelement() for param in model.parameters()]))\n",
        "    init_model_wts = copy.deepcopy(model.state_dict())\n",
        "    model, precision, train_errors, eval_errors = experiment(model,init_model_wts, train_set, valid_set)\n",
        "    plot_learning_curves(train_errors,eval_errors)\n",
        "    if precision > best_precision:\n",
        "        best_precision = precision\n",
        "        best_model = model\n",
        "\n",
        "print('Best Eval Accuracy of Best Model: {:.2f}%'.format(best_precision))\n",
        "test(best_model, test_set)"
      ],
      "execution_count": 0,
      "outputs": [
        {
          "output_type": "stream",
          "text": [
            "shallow_FcNetwork(\n",
            "  (fc1): Linear(in_features=784, out_features=512, bias=True)\n",
            "  (fc2): Linear(in_features=512, out_features=10, bias=True)\n",
            ")\n",
            "\n",
            "\n",
            "# Parameters:  407050\n",
            "Training begins...\n",
            "\n",
            "Epoch 1\n",
            "\n",
            "Patience 0\n",
            "\tTrain error: 1.0171\n",
            "\tEval error: 0.7059\n",
            "\tAccuracy on Eval set: 74.00%\n",
            "\n",
            "Epoch 2\n",
            "\n",
            "Patience 0\n",
            "\tTrain error: 0.7206\n",
            "\tEval error: 0.6259\n",
            "\tAccuracy on Eval set: 77.00%\n",
            "\n",
            "Epoch 3\n",
            "\n",
            "Patience 0\n",
            "\tTrain error: 0.6552\n",
            "\tEval error: 0.5899\n",
            "\tAccuracy on Eval set: 78.00%\n",
            "\n",
            "Epoch 4\n",
            "\n",
            "Patience 0\n",
            "\tTrain error: 0.6184\n",
            "\tEval error: 0.5673\n",
            "\tAccuracy on Eval set: 79.00%\n",
            "\n",
            "Epoch 5\n",
            "\n",
            "Patience 1\n",
            "\tTrain error: 0.5930\n",
            "\tEval error: 0.5504\n",
            "\tAccuracy on Eval set: 79.00%\n",
            "\n",
            "Epoch 6\n",
            "\n",
            "Patience 0\n",
            "\tTrain error: 0.5733\n",
            "\tEval error: 0.5368\n",
            "\tAccuracy on Eval set: 80.00%\n",
            "\n",
            "Epoch 7\n",
            "\n",
            "Patience 1\n",
            "\tTrain error: 0.5570\n",
            "\tEval error: 0.5253\n",
            "\tAccuracy on Eval set: 80.00%\n",
            "\n",
            "Epoch 8\n",
            "\n",
            "Patience 0\n",
            "\tTrain error: 0.5428\n",
            "\tEval error: 0.5154\n",
            "\tAccuracy on Eval set: 81.00%\n",
            "\n",
            "Epoch 9\n",
            "\n",
            "Patience 1\n",
            "\tTrain error: 0.5300\n",
            "\tEval error: 0.5065\n",
            "\tAccuracy on Eval set: 81.00%\n",
            "\n",
            "Epoch 10\n",
            "\n",
            "Patience 2\n",
            "\tTrain error: 0.5184\n",
            "\tEval error: 0.4986\n",
            "\tAccuracy on Eval set: 81.00%\n",
            "\n",
            "Training complete in 12m 15s\n"
          ],
          "name": "stdout"
        },
        {
          "output_type": "display_data",
          "data": {
            "image/png": "[encoded data removed]",
            "text/plain": [
              "<Figure size 432x288 with 1 Axes>"
            ]
          },
          "metadata": {
            "tags": []
          }
        },
        {
          "output_type": "stream",
          "text": [
            "deep_FcNetwork(\n",
            "  (fc1): Linear(in_features=784, out_features=512, bias=True)\n",
            "  (fc2): Linear(in_features=512, out_features=1024, bias=True)\n",
            "  (fc3): Linear(in_features=1024, out_features=10, bias=True)\n",
            ")\n",
            "\n",
            "\n",
            "# Parameters:  937482\n",
            "Training begins...\n",
            "\n",
            "Epoch 1\n",
            "\n",
            "Patience 0\n",
            "\tTrain error: 1.6513\n",
            "\tEval error: 1.1301\n",
            "\tAccuracy on Eval set: 56.00%\n",
            "\n",
            "Epoch 2\n",
            "\n",
            "Patience 0\n",
            "\tTrain error: 1.0375\n",
            "\tEval error: 0.8398\n",
            "\tAccuracy on Eval set: 70.00%\n",
            "\n",
            "Epoch 3\n",
            "\n",
            "Patience 0\n",
            "\tTrain error: 0.8399\n",
            "\tEval error: 0.7247\n",
            "\tAccuracy on Eval set: 73.00%\n",
            "\n",
            "Epoch 4\n",
            "\n",
            "Patience 0\n",
            "\tTrain error: 0.7553\n",
            "\tEval error: 0.6711\n",
            "\tAccuracy on Eval set: 75.00%\n",
            "\n",
            "Epoch 5\n",
            "\n",
            "Patience 0\n",
            "\tTrain error: 0.7058\n",
            "\tEval error: 0.6363\n",
            "\tAccuracy on Eval set: 76.00%\n",
            "\n",
            "Epoch 6\n",
            "\n",
            "Patience 0\n",
            "\tTrain error: 0.6701\n",
            "\tEval error: 0.6105\n",
            "\tAccuracy on Eval set: 77.00%\n",
            "\n",
            "Epoch 7\n",
            "\n",
            "Patience 0\n",
            "\tTrain error: 0.6423\n",
            "\tEval error: 0.5904\n",
            "\tAccuracy on Eval set: 78.00%\n",
            "\n",
            "Epoch 8\n",
            "\n",
            "Patience 1\n",
            "\tTrain error: 0.6201\n",
            "\tEval error: 0.5742\n",
            "\tAccuracy on Eval set: 78.00%\n",
            "\n",
            "Epoch 9\n",
            "\n",
            "Patience 0\n",
            "\tTrain error: 0.6017\n",
            "\tEval error: 0.5605\n",
            "\tAccuracy on Eval set: 79.00%\n",
            "\n",
            "Epoch 10\n",
            "\n",
            "Patience 1\n",
            "\tTrain error: 0.5860\n",
            "\tEval error: 0.5485\n",
            "\tAccuracy on Eval set: 79.00%\n",
            "\n",
            "Training complete in 12m 26s\n"
          ],
          "name": "stdout"
        },
        {
          "output_type": "display_data",
          "data": {
            "image/png": "[encoded data removed]",
            "text/plain": [
              "<Figure size 432x288 with 1 Axes>"
            ]
          },
          "metadata": {
            "tags": []
          }
        },
        {
          "output_type": "stream",
          "text": [
            "shallow_CNN(\n",
            "  (conv1): Sequential(\n",
            "    (0): Conv2d(1, 32, kernel_size=(5, 5), stride=(1, 1), padding=(2, 2))\n",
            "    (1): ReLU()\n",
            "    (2): MaxPool2d(kernel_size=2, stride=2, padding=0, dilation=1, ceil_mode=False)\n",
            "    (3): Dropout2d(p=0.5)\n",
            "  )\n",
            "  (conv2): Sequential(\n",
            "    (0): Conv2d(32, 64, kernel_size=(5, 5), stride=(1, 1), padding=(2, 2))\n",
            "    (1): ReLU()\n",
            "    (2): MaxPool2d(kernel_size=2, stride=2, padding=0, dilation=1, ceil_mode=False)\n",
            "    (3): Dropout2d(p=0.5)\n",
            "  )\n",
            "  (conv3): Sequential(\n",
            "    (0): Conv2d(64, 128, kernel_size=(5, 5), stride=(1, 1), padding=(2, 2))\n",
            "    (1): ReLU()\n",
            "    (2): MaxPool2d(kernel_size=2, stride=2, padding=0, dilation=1, ceil_mode=False)\n",
            "    (3): Dropout2d(p=0.5)\n",
            "  )\n",
            "  (conv4): Sequential(\n",
            "    (0): Conv2d(128, 256, kernel_size=(3, 3), stride=(1, 1), padding=(2, 2))\n",
            "    (1): ReLU()\n",
            "    (2): MaxPool2d(kernel_size=2, stride=2, padding=0, dilation=1, ceil_mode=False)\n",
            "    (3): Dropout2d(p=0.5)\n",
            "  )\n",
            "  (fc): Linear(in_features=1024, out_features=10, bias=True)\n",
            ")\n",
            "\n",
            "\n",
            "# Parameters:  562442\n",
            "Training begins...\n",
            "\n",
            "Epoch 1\n",
            "\n",
            "Patience 0\n",
            "\tTrain error: 1.2766\n",
            "\tEval error: 0.6401\n",
            "\tAccuracy on Eval set: 75.00%\n",
            "\n",
            "Epoch 2\n",
            "\n",
            "Patience 0\n",
            "\tTrain error: 0.7673\n",
            "\tEval error: 0.5417\n",
            "\tAccuracy on Eval set: 79.00%\n"
          ],
          "name": "stdout"
        }
      ]
    },
    {
      "metadata": {
        "colab_type": "text",
        "id": "TzYy6Fe31sCs"
      },
      "cell_type": "markdown",
      "source": [
        "# Discussion\n",
        "\n",
        "## Discussion\n",
        "\n",
        "CNN's need significantly less parameters than MLP to be able to match an MLP's performance since they exhibit sparse connectivity and parameter sharing. \n",
        "\n",
        "**Sparse connectivity**: direct connections very sparse, but in the deeper layers, units are indirectly connected to all/most of the input image. \n",
        "\n",
        "**Parameter sharing**: each member of the kernel is used at every position of the input, meaning the same parameters are used at all input locations. Therefore you learn only one set of parameters. \n",
        "\n",
        "This means that a CNN with roughly the same number of parameters should outperform a MLP, which is what you see in our results.\n",
        "\n",
        "## Performance\n",
        "\n",
        "If m represents the size of the input image, and n the size of the output image, then MLP requires mxn parameters with O(mxn) runtime. In CNNs, you limit the number of connections of each output to k, this means you only need kxn parameters with O(kxn) runtime. \n",
        "\n",
        "## Hyperparameter Settings\n",
        "\n",
        "```\n",
        "|   lr   |   bs   |    loss        | test accur. | epochs |        comments       \n",
        "----------------------------------------------------------------------------------\n",
        "|  1e-2  |   16   |CrossEntropyLoss|    83%      |   10   | with patience         \n",
        "|  1e-2  |   34   |CrossEntropyLoss|    80%      |   10   | with patience         \n",
        "|  1e-2  |   150  |CrossEntropyLoss|    68%      |   10   | with patience         \n",
        "|  5e-3  |   16   |CrossEntropyLoss|    80%      |   10   | with patience         \n",
        "|  5e-3  |   34   |CrossEntropyLoss|    73%      |   10   | with patience         \n",
        "|  5e-3  |   150  |CrossEntropyLoss|    62%      |   10   | with patience         \n",
        "|  1e-2  |   16   |CrossEntropyLoss|    89%      |   10   | with patience and data aug \n",
        "```\n",
        "\n",
        "\n",
        "\n",
        "\n",
        "\n",
        "\n"
      ]
    }
  ]
}